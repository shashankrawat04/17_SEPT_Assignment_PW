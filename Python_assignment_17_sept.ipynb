{
  "nbformat": 4,
  "nbformat_minor": 0,
  "metadata": {
    "colab": {
      "provenance": []
    },
    "kernelspec": {
      "name": "python3",
      "display_name": "Python 3"
    },
    "language_info": {
      "name": "python"
    }
  },
  "cells": [
    {
      "cell_type": "markdown",
      "source": [
        "\n",
        "For Loop :-\n",
        "1. Write a Python program to print numbers from 1 to 10 using a for loop.\n",
        "2. Explain the difference between a for loop and a while loop in Python.\n",
        "3. Write a Python program to calculate the sum of all numbers from 1 to 100 using a for loop.\n",
        "4. How do you iterate through a list using a for loop in Python?\n",
        "5. Write a Python program to find the product of all elements in a list using a for loop.\n",
        "6. Create a Python program that prints all even numbers from 1 to 20 using a for loop.\n",
        "7. Write a Python program that calculates the factorial of a number using a for loop.\n",
        "8. How can you iterate through the characters of a string using a for loop in Python?\n",
        "9. Write a Python program to find the largest number in a list using a for loop.\n",
        "10. Create a Python program that prints the Fibonacci sequence up to a specified limit using a for\n",
        "loop.\n",
        "11. Write a Python program to count the number of vowels in a given string using a for loop.\n",
        "12. Create a Python program that generates a multiplication table for a given number using a for\n",
        "loop.\n",
        "13. Write a Python program to reverse a list using a for loop.\n",
        "14. Write a Python program to find the common elements between two lists using a for loop.\n",
        "15. Explain how to use a for loop to iterate through the keys and values of a dictionary in Python.\n",
        "16. Write a Python program to find the GCD (Greatest Common Divisor) of two numbers using a for\n",
        "loop.\n",
        "17. Create a Python program that checks if a string is a palindrome using a for loop.\n",
        "18. Write a Python program to remove duplicates from a list using a for loop.\n",
        "19. Create a Python program that counts the number of words in a sentence using a for loop.\n",
        "20. Write a Python program to find the sum of all odd numbers from 1 to 50 using a for loop.\n",
        "21. Write a Python program that checks if a given year is a leap year using a for loop.\n",
        "22. Create a Python program that calculates the square root of a number using a for loop.\n",
        "23. Write a Python program to find the LCM (Least Common Multiple) of two numbers using a for\n",
        "loop.\n"
      ],
      "metadata": {
        "id": "9O1L6NmtKeDQ"
      }
    },
    {
      "cell_type": "code",
      "execution_count": null,
      "metadata": {
        "colab": {
          "base_uri": "https://localhost:8080/"
        },
        "id": "ghpLtIjkKTjL",
        "outputId": "402d14ea-f9f2-42ac-99ee-c50a2171934b"
      },
      "outputs": [
        {
          "output_type": "stream",
          "name": "stdout",
          "text": [
            "1\n",
            "2\n",
            "3\n",
            "4\n",
            "5\n",
            "6\n",
            "7\n",
            "8\n",
            "9\n",
            "10\n"
          ]
        }
      ],
      "source": [
        "#1\n",
        "for i in range(1, 11):\n",
        "  print(i)"
      ]
    },
    {
      "cell_type": "markdown",
      "source": [
        "**Question 2:**\n",
        "When number of iterations is known we used for loop and when number of iterations is unknown we used while loop. For loop is faster than while loop."
      ],
      "metadata": {
        "id": "azLfDk2LPk3B"
      }
    },
    {
      "cell_type": "code",
      "source": [
        "#3\n",
        "num = 0\n",
        "for i in range(1, 101):\n",
        "  num = num + i\n",
        "print(num)"
      ],
      "metadata": {
        "colab": {
          "base_uri": "https://localhost:8080/"
        },
        "id": "ZuQb2C7BPjmh",
        "outputId": "83ec398d-58f3-461c-ca82-08b934858c8e"
      },
      "execution_count": null,
      "outputs": [
        {
          "output_type": "stream",
          "name": "stdout",
          "text": [
            "5050\n"
          ]
        }
      ]
    },
    {
      "cell_type": "code",
      "source": [
        "#4\n",
        "lst = [1,2,3,4,5]\n",
        "for i in lst:\n",
        "  print(i)"
      ],
      "metadata": {
        "colab": {
          "base_uri": "https://localhost:8080/"
        },
        "id": "GfG5wEaVQSfc",
        "outputId": "52f283f4-d152-4810-b531-e3ba5af54c6b"
      },
      "execution_count": null,
      "outputs": [
        {
          "output_type": "stream",
          "name": "stdout",
          "text": [
            "1\n",
            "2\n",
            "3\n",
            "4\n",
            "5\n"
          ]
        }
      ]
    },
    {
      "cell_type": "code",
      "source": [
        "#5\n",
        "lst = [1,2,3,4,5]\n",
        "mul = 1\n",
        "for i in lst:\n",
        "  mul = mul * i\n",
        "print(mul)"
      ],
      "metadata": {
        "colab": {
          "base_uri": "https://localhost:8080/"
        },
        "id": "MrOIYcD4Qia7",
        "outputId": "3a28bbcf-fbe0-4ef3-cdfd-68e09d923fd1"
      },
      "execution_count": null,
      "outputs": [
        {
          "output_type": "stream",
          "name": "stdout",
          "text": [
            "120\n"
          ]
        }
      ]
    },
    {
      "cell_type": "code",
      "source": [
        "#6\n",
        "for i in range(1,21):\n",
        "  if i%2 == 0:\n",
        "    print(i)"
      ],
      "metadata": {
        "colab": {
          "base_uri": "https://localhost:8080/"
        },
        "id": "6h_zA7STQxI4",
        "outputId": "8b936b23-14f5-4605-ab0e-51d5da513a0e"
      },
      "execution_count": null,
      "outputs": [
        {
          "output_type": "stream",
          "name": "stdout",
          "text": [
            "2\n",
            "4\n",
            "6\n",
            "8\n",
            "10\n",
            "12\n",
            "14\n",
            "16\n",
            "18\n",
            "20\n"
          ]
        }
      ]
    },
    {
      "cell_type": "code",
      "source": [
        "#7\n",
        "num = int(input())\n",
        "n = num\n",
        "s = 1\n",
        "for i in range(5):\n",
        "  s = n * i\n",
        "  n = n+1\n",
        "  print(s)"
      ],
      "metadata": {
        "colab": {
          "base_uri": "https://localhost:8080/"
        },
        "id": "Pzh0AmU2TJaB",
        "outputId": "1023fa06-1143-4d87-bca8-e8c2f7c79e66"
      },
      "execution_count": null,
      "outputs": [
        {
          "output_type": "stream",
          "name": "stdout",
          "text": [
            "5\n",
            "0\n",
            "6\n",
            "14\n",
            "24\n",
            "36\n"
          ]
        }
      ]
    },
    {
      "cell_type": "code",
      "source": [
        "#8\n",
        "s = input()\n",
        "for i in s:\n",
        "  print(i)"
      ],
      "metadata": {
        "colab": {
          "base_uri": "https://localhost:8080/"
        },
        "id": "mSwa8nchisAt",
        "outputId": "da1474cb-ffd3-4093-a851-40155caefa59"
      },
      "execution_count": null,
      "outputs": [
        {
          "output_type": "stream",
          "name": "stdout",
          "text": [
            "shashank\n",
            "s\n",
            "h\n",
            "a\n",
            "s\n",
            "h\n",
            "a\n",
            "n\n",
            "k\n"
          ]
        }
      ]
    },
    {
      "cell_type": "code",
      "source": [
        "#9\n",
        "lst = [1,4,5,7,4,14,25,0,80,-1]\n",
        "max = lst[0]\n",
        "for i in lst:\n",
        "  if i>max:\n",
        "    max = i\n",
        "print(max)"
      ],
      "metadata": {
        "id": "1cSWOWOgi3uG",
        "colab": {
          "base_uri": "https://localhost:8080/"
        },
        "outputId": "c619e336-d312-4d64-a188-50c84ebd9dfb"
      },
      "execution_count": null,
      "outputs": [
        {
          "output_type": "stream",
          "name": "stdout",
          "text": [
            "80\n"
          ]
        }
      ]
    },
    {
      "cell_type": "code",
      "source": [
        "#10\n",
        "num = int(input())\n",
        "a = 0\n",
        "b = 1\n",
        "print(a)\n",
        "print(b)\n",
        "for i in range(num):\n",
        "  c = a + b\n",
        "  print(c)\n",
        "  a,b = b,c\n",
        "\n"
      ],
      "metadata": {
        "id": "tZ_wdgr8i3pH",
        "colab": {
          "base_uri": "https://localhost:8080/"
        },
        "outputId": "c8b7b726-efbf-4864-a154-d0da6c6eef0d"
      },
      "execution_count": null,
      "outputs": [
        {
          "output_type": "stream",
          "name": "stdout",
          "text": [
            "5\n",
            "0\n",
            "1\n",
            "1\n",
            "2\n",
            "3\n",
            "5\n",
            "8\n"
          ]
        }
      ]
    },
    {
      "cell_type": "code",
      "source": [
        "#11\n",
        "str1 = \"shashank\"\n",
        "count = 0\n",
        "for i in str1:\n",
        "  if i == 'a' or i == 'i' or i == 'e' or i == 'o' or i == 'u':\n",
        "    count += 1\n",
        "print(count)"
      ],
      "metadata": {
        "id": "cMwM3-lRi3me",
        "colab": {
          "base_uri": "https://localhost:8080/"
        },
        "outputId": "169c4d76-ddba-4897-f399-88cbb77afa30"
      },
      "execution_count": null,
      "outputs": [
        {
          "output_type": "stream",
          "name": "stdout",
          "text": [
            "2\n"
          ]
        }
      ]
    },
    {
      "cell_type": "code",
      "source": [
        "#12\n",
        "num = int(input(\"Enter the number to print table: \"))\n",
        "for i in range(11):\n",
        "  print(f\"{num}*{i}\" , \" = \", num*i )"
      ],
      "metadata": {
        "id": "Iw_HVGe4i3jo",
        "colab": {
          "base_uri": "https://localhost:8080/"
        },
        "outputId": "17466aaf-78e6-42b6-ec98-8e52de15cebb"
      },
      "execution_count": null,
      "outputs": [
        {
          "output_type": "stream",
          "name": "stdout",
          "text": [
            "Enter the number to print table: 5\n",
            "5*0  =  0\n",
            "5*1  =  5\n",
            "5*2  =  10\n",
            "5*3  =  15\n",
            "5*4  =  20\n",
            "5*5  =  25\n",
            "5*6  =  30\n",
            "5*7  =  35\n",
            "5*8  =  40\n",
            "5*9  =  45\n",
            "5*10  =  50\n"
          ]
        }
      ]
    },
    {
      "cell_type": "code",
      "source": [
        "#13\n",
        "lst = [1,2,3,4,5,6]\n",
        "lst1 = []\n",
        "for i in lst:\n",
        "  lst1.append(i)\n",
        "lst1.reverse()\n",
        "print(lst1)"
      ],
      "metadata": {
        "id": "aMBxZfgJi3gx",
        "colab": {
          "base_uri": "https://localhost:8080/"
        },
        "outputId": "759589c7-a583-477d-ce27-52492e53c9bb"
      },
      "execution_count": null,
      "outputs": [
        {
          "output_type": "stream",
          "name": "stdout",
          "text": [
            "[6, 5, 4, 3, 2, 1]\n"
          ]
        }
      ]
    },
    {
      "cell_type": "code",
      "source": [
        "#14\n",
        "lst1 = [1,2,3,4,5,6,12]\n",
        "lst2 = [6,7,8,9,10,11,12,1]\n",
        "lst3 = []\n",
        "for i in lst1:\n",
        "  for j in lst2:\n",
        "    if i == j:\n",
        "      lst3.append(i)\n",
        "print(lst3)\n"
      ],
      "metadata": {
        "id": "yWFclpnBi3dt",
        "colab": {
          "base_uri": "https://localhost:8080/"
        },
        "outputId": "c4d85f09-f987-4ad6-9a72-18143e61feb2"
      },
      "execution_count": null,
      "outputs": [
        {
          "output_type": "stream",
          "name": "stdout",
          "text": [
            "[1, 6, 12]\n"
          ]
        }
      ]
    },
    {
      "cell_type": "code",
      "source": [
        "#15\n",
        "dict1 = {\"name\": \"shashank\",\"roll no.\": 190, \"course\":\"btech\"}\n",
        "for keys,values in dict1.items():\n",
        "  print(keys, values)"
      ],
      "metadata": {
        "id": "cIrUZMM3i3aw",
        "colab": {
          "base_uri": "https://localhost:8080/"
        },
        "outputId": "cdaf2aef-3dc0-4a7c-a50c-bfec8f5aaa5c"
      },
      "execution_count": null,
      "outputs": [
        {
          "output_type": "stream",
          "name": "stdout",
          "text": [
            "name shashank\n",
            "roll no. 190\n",
            "course btech\n"
          ]
        }
      ]
    },
    {
      "cell_type": "code",
      "source": [
        "#16\n",
        "num1 = int(input(\"Enter number 1: \"))\n",
        "num2 = int(input(\"Enter number 2: \"))\n",
        "lst = []\n",
        "for i in range(1,9):\n",
        "  if num1%i == 0 and num2%i == 0:\n",
        "    lst.append(i)\n",
        "print(lst)"
      ],
      "metadata": {
        "id": "8y5a-HPLi3Rw",
        "colab": {
          "base_uri": "https://localhost:8080/"
        },
        "outputId": "bd703e4a-f4fb-4a84-c2f9-4e9e8f95c19e"
      },
      "execution_count": null,
      "outputs": [
        {
          "output_type": "stream",
          "name": "stdout",
          "text": [
            "Enter number 1: 10\n",
            "Enter number 2: 15\n",
            "[1, 5]\n"
          ]
        }
      ]
    },
    {
      "cell_type": "code",
      "source": [
        "#17\n",
        "input_string = input(\"Enter a string: \")\n",
        "\n",
        "\n",
        "input_string = input_string.replace(\" \", \"\").lower()\n",
        "\n",
        "left = 0\n",
        "right = len(input_string) - 1\n",
        "\n",
        "\n",
        "is_palindrome = True\n",
        "for _ in range(len(input_string) // 2):\n",
        "    if input_string[left] != input_string[right]:\n",
        "        is_palindrome = False\n",
        "        break\n",
        "    left += 1\n",
        "    right -= 1\n",
        "\n",
        "if is_palindrome:\n",
        "    print(\"The string is a palindrome.\")\n",
        "else:\n",
        "    print(\"The string is not a palindrome.\")\n"
      ],
      "metadata": {
        "id": "dHGpekTJi3Hz",
        "colab": {
          "base_uri": "https://localhost:8080/"
        },
        "outputId": "76343fa6-a001-4406-bc39-c78962c43699"
      },
      "execution_count": null,
      "outputs": [
        {
          "output_type": "stream",
          "name": "stdout",
          "text": [
            "Enter a string: naman\n",
            "The string is a palindrome.\n"
          ]
        }
      ]
    },
    {
      "cell_type": "code",
      "source": [
        "#18\n",
        "lst = [1,2,4,2,5,7,8,8,3]\n",
        "lst1 =[]\n",
        "for i in range(len(lst)):\n",
        "  for j in range(i+1, len(lst)):\n",
        "    if lst[i] == lst[j]:\n",
        "      lst1.append(lst[i])\n",
        "print(lst1)"
      ],
      "metadata": {
        "id": "gXZHGJ80i28W",
        "colab": {
          "base_uri": "https://localhost:8080/"
        },
        "outputId": "7d069fbe-3632-438e-a1c9-2ac28dce9cf6"
      },
      "execution_count": null,
      "outputs": [
        {
          "output_type": "stream",
          "name": "stdout",
          "text": [
            "[2, 8]\n"
          ]
        }
      ]
    },
    {
      "cell_type": "code",
      "source": [
        "#19\n",
        "sentence = \"My name is shashank rawat, what is your name? my name is xyz\"\n",
        "count = 0\n",
        "for i in sentence:\n",
        "  if i == \" \" or i == '/n':\n",
        "    count = count + 1\n",
        "print(count + 1)"
      ],
      "metadata": {
        "id": "7ESxSoxli2KA",
        "colab": {
          "base_uri": "https://localhost:8080/"
        },
        "outputId": "acc534e2-372c-4d41-d14a-2baf8cf7d851"
      },
      "execution_count": null,
      "outputs": [
        {
          "output_type": "stream",
          "name": "stdout",
          "text": [
            "13\n"
          ]
        }
      ]
    },
    {
      "cell_type": "code",
      "source": [
        "#20\n",
        "sum = 0\n",
        "for i in range(1, 51):\n",
        "  if i%2 != 0:\n",
        "    sum = sum + i\n",
        "print(sum)"
      ],
      "metadata": {
        "colab": {
          "base_uri": "https://localhost:8080/"
        },
        "id": "UcwHPnpyX1U1",
        "outputId": "b63655ba-54be-4eb7-f998-cc44d5da1166"
      },
      "execution_count": null,
      "outputs": [
        {
          "output_type": "stream",
          "name": "stdout",
          "text": [
            "625\n"
          ]
        }
      ]
    },
    {
      "cell_type": "code",
      "source": [
        "#21\n",
        "year = int(input(\"Enter the year: \"))\n",
        "if year%4 == 0:\n",
        "  if year%100 == 0:\n",
        "    if year%400 == 0:\n",
        "      print(\"Input year is a leap year \")"
      ],
      "metadata": {
        "colab": {
          "base_uri": "https://localhost:8080/"
        },
        "id": "dLiRyidsX1NI",
        "outputId": "5d5cf654-f786-4bc7-cf99-a68d7feab5b2"
      },
      "execution_count": null,
      "outputs": [
        {
          "output_type": "stream",
          "name": "stdout",
          "text": [
            "Enter the year: 2000\n",
            "Input year is a leap year \n"
          ]
        }
      ]
    },
    {
      "cell_type": "code",
      "source": [
        "#22\n",
        "num = int(input(\"Enter number to check square root: \"))\n",
        "print(int(num**0.5))"
      ],
      "metadata": {
        "colab": {
          "base_uri": "https://localhost:8080/"
        },
        "id": "khBFILWjX0sO",
        "outputId": "700911eb-7a5e-484a-ae2c-24e9fe763e32"
      },
      "execution_count": null,
      "outputs": [
        {
          "output_type": "stream",
          "name": "stdout",
          "text": [
            "Enter number to check square root: 8\n",
            "2\n"
          ]
        }
      ]
    },
    {
      "cell_type": "code",
      "source": [
        "#23\n",
        "num1 = int(input(\"Enter number 1: \"))\n",
        "num2 = int(input(\"Enter number 2: \"))\n",
        "\n",
        "max_num = max(num1, num2)\n",
        "\n",
        "for i in range(max_num, num1 * num2 + 1, max_num):\n",
        "    if i % num1 == 0 and i % num2 == 0:\n",
        "        print(\"LCM:\", i)\n",
        "        break\n",
        "\n"
      ],
      "metadata": {
        "colab": {
          "base_uri": "https://localhost:8080/"
        },
        "id": "ctZbZ4vBX0fh",
        "outputId": "ce06d641-bde7-4426-f2a2-0856f73e8707"
      },
      "execution_count": null,
      "outputs": [
        {
          "output_type": "stream",
          "name": "stdout",
          "text": [
            "Enter number 1: 16\n",
            "Enter number 2: 20\n",
            "LCM: 80\n"
          ]
        }
      ]
    },
    {
      "cell_type": "markdown",
      "source": [
        "If else :\n",
        "1. Write a Python program to check if a number is positive, negative, or zero using an if-else\n",
        "statement.\n",
        "2. Create a Python program that checks if a given number is even or odd using an if-else statement.\n",
        "3. How can you use nested if-else statements in Python, and provide an example?\n",
        "4. Write a Python program to determine the largest of three numbers using if-else.\n",
        "5. Write a Python program that calculates the absolute value of a number using if-else.\n",
        "6. Create a Python program that checks if a given character is a vowel or consonant using if-else.\n",
        "7. Write a Python program to determine if a user is eligible to vote based on their age using if-else.\n",
        "8. Create a Python program that calculates the discount amount based on the purchase amount\n",
        "using if-else.\n",
        "9. Write a Python program to check if a number is within a specified range using if-else.\n",
        "10. Create a Python program that determines the grade of a student based on their score using\n",
        "if-else.\n",
        "11. Write a Python program to check if a string is empty or not using if-else.\n",
        "12. Create a Python program that identifies the type of a triangle (e.g., equilateral, isosceles, or\n",
        "scalene) based on input values using if-else.\n",
        "13. Write a Python program to determine the day of the week based on a user-provided number\n",
        "using if-else.\n",
        "14. Create a Python program that checks if a given year is a leap year using both if-else and a\n",
        "function.\n",
        "15. How do you use the \"assert\" statement in Python to add debugging checks within if-else blocks?\n",
        "16. Create a Python program that determines the eligibility of a person for a senior citizen discount\n",
        "based on age using if-else.\n",
        "17. Write a Python program to categorize a given character as uppercase, lowercase, or neither\n",
        "using if-else.\n",
        "18. Write a Python program to determine the roots of a quadratic equation using if-else.\n",
        "19. Create a Python program that checks if a given year is a century year or not using if-else.\n",
        "20. Write a Python program to determine if a given number is a perfect square using if-else.\n",
        "21. Explain the purpose of the \"continue\" and \"break\" statements within if-else loops.\n",
        "22. Create a Python program that calculates the BMI (Body Mass Index) of a person based on their\n",
        "weight and height using if-else.\n",
        "23. How can you use the \"filter()\" function with if-else statements to filter elements from a list?\n",
        "24. Write a Python program to determine if a given number is prime or not using if-else."
      ],
      "metadata": {
        "id": "fi3RJ9zKh6xV"
      }
    },
    {
      "cell_type": "code",
      "source": [
        "#1\n",
        "num = float(input(\"Enter a number: \"))\n",
        "\n",
        "if num > 0:\n",
        "    print(\"The number is positive.\")\n",
        "elif num < 0:\n",
        "    print(\"The number is negative.\")\n",
        "else:\n",
        "    print(\"The number is zero.\")\n"
      ],
      "metadata": {
        "colab": {
          "base_uri": "https://localhost:8080/"
        },
        "id": "iyDV4etAhvwr",
        "outputId": "d6c2e8bf-4058-4e8f-f9c2-3f59d54b5443"
      },
      "execution_count": null,
      "outputs": [
        {
          "output_type": "stream",
          "name": "stdout",
          "text": [
            "Enter a number: 5\n",
            "The number is positive.\n"
          ]
        }
      ]
    },
    {
      "cell_type": "code",
      "source": [
        "#2\n",
        "num = int(input(\"Enter a number: \"))\n",
        "\n",
        "if num % 2 == 0:\n",
        "    print(\"The number is even.\")\n",
        "else:\n",
        "    print(\"The number is odd.\")\n"
      ],
      "metadata": {
        "colab": {
          "base_uri": "https://localhost:8080/"
        },
        "id": "c6SGljI8hvtR",
        "outputId": "cf14675a-82c0-43a6-a760-a557110f8a7d"
      },
      "execution_count": null,
      "outputs": [
        {
          "output_type": "stream",
          "name": "stdout",
          "text": [
            "Enter a number: 8\n",
            "The number is even.\n"
          ]
        }
      ]
    },
    {
      "cell_type": "code",
      "source": [
        "#3\n",
        "num = float(input(\"Enter a number: \"))\n",
        "\n",
        "if num >= -10 and num <= 10:\n",
        "    if num > 0:\n",
        "        print(\"The number is positive and within the range.\")\n",
        "    elif num < 0:\n",
        "        print(\"The number is negative and within the range.\")\n",
        "    else:\n",
        "        print(\"The number is zero and within the range.\")\n",
        "else:\n",
        "    print(\"The number is outside the range of -10 to 10.\")\n"
      ],
      "metadata": {
        "colab": {
          "base_uri": "https://localhost:8080/"
        },
        "id": "RPVjLG1yhvqP",
        "outputId": "263c3251-9353-4568-8e4b-66734bcf41be"
      },
      "execution_count": null,
      "outputs": [
        {
          "output_type": "stream",
          "name": "stdout",
          "text": [
            "Enter a number: 5\n",
            "The number is positive and within the range.\n"
          ]
        }
      ]
    },
    {
      "cell_type": "code",
      "source": [
        "#4\n",
        "num1 = float(input(\"Enter the first number: \"))\n",
        "num2 = float(input(\"Enter the second number: \"))\n",
        "num3 = float(input(\"Enter the third number: \"))\n",
        "\n",
        "if num1 >= num2 and num1 >= num3:\n",
        "    print(\"The largest number is:\", num1)\n",
        "elif num2 >= num1 and num2 >= num3:\n",
        "    print(\"The largest number is:\", num2)\n",
        "else:\n",
        "    print(\"The largest number is:\", num3)\n"
      ],
      "metadata": {
        "colab": {
          "base_uri": "https://localhost:8080/"
        },
        "id": "LxTVqwZThvnp",
        "outputId": "ae586fd5-06b5-45db-c51d-1d2ace219b0b"
      },
      "execution_count": null,
      "outputs": [
        {
          "output_type": "stream",
          "name": "stdout",
          "text": [
            "Enter the first number: -8\n",
            "Enter the second number: 8\n",
            "Enter the third number: 9\n",
            "The largest number is: 9.0\n"
          ]
        }
      ]
    },
    {
      "cell_type": "code",
      "source": [
        "#5\n",
        "num = float(input(\"Enter a number: \"))\n",
        "\n",
        "if num >= 0:\n",
        "    absolute_value = num\n",
        "else:\n",
        "    absolute_value = -num\n",
        "\n",
        "print(\"The absolute value of the number is:\", absolute_value)\n"
      ],
      "metadata": {
        "colab": {
          "base_uri": "https://localhost:8080/"
        },
        "id": "6ivmPAXYhvkm",
        "outputId": "7bea1cb4-b947-481d-d531-726025233d2d"
      },
      "execution_count": null,
      "outputs": [
        {
          "output_type": "stream",
          "name": "stdout",
          "text": [
            "Enter a number: -5\n",
            "The absolute value of the number is: 5.0\n"
          ]
        }
      ]
    },
    {
      "cell_type": "code",
      "source": [
        "#6\n",
        "char = input(\"Enter a character: \")\n",
        "\n",
        "if char.lower() in 'aeiou':\n",
        "    print(\"The character is a vowel.\")\n",
        "else:\n",
        "    print(\"The character is a consonant.\")\n"
      ],
      "metadata": {
        "colab": {
          "base_uri": "https://localhost:8080/"
        },
        "id": "Bk5LOPPWhvh1",
        "outputId": "1985da24-bb18-4d0a-fa09-0e760122ef5f"
      },
      "execution_count": null,
      "outputs": [
        {
          "output_type": "stream",
          "name": "stdout",
          "text": [
            "Enter a character: A\n",
            "The character is a vowel.\n"
          ]
        }
      ]
    },
    {
      "cell_type": "code",
      "source": [
        "#7\n",
        "age = int(input(\"Enter your age: \"))\n",
        "if age >= 18:\n",
        "    print(\"You are eligible to vote.\")\n",
        "else:\n",
        "    print(\"You are not eligible to vote yet.\")\n"
      ],
      "metadata": {
        "colab": {
          "base_uri": "https://localhost:8080/"
        },
        "id": "DGPnDnPRhver",
        "outputId": "f57fa2bc-52b5-4194-cb4a-2d77c13a07c3"
      },
      "execution_count": null,
      "outputs": [
        {
          "output_type": "stream",
          "name": "stdout",
          "text": [
            "Enter your age: 24\n",
            "You are eligible to vote.\n"
          ]
        }
      ]
    },
    {
      "cell_type": "code",
      "source": [
        "#8\n",
        "purchase_amount = float(input(\"Enter the purchase amount: \"))\n",
        "\n",
        "if purchase_amount >= 100:\n",
        "    discount_percentage = 10  # 10% discount for purchases of $100 or more\n",
        "    discount_amount = (discount_percentage / 100) * purchase_amount\n",
        "else:\n",
        "    discount_percentage = 0\n",
        "    discount_amount = 0\n",
        "\n",
        "total_amount = purchase_amount - discount_amount\n",
        "\n",
        "print(f\"Purchase amount: ${purchase_amount:.2f}\")\n",
        "print(f\"Discount percentage: {discount_percentage}%\")\n",
        "print(f\"Discount amount: ${discount_amount:.2f}\")\n",
        "print(f\"Total amount after discount: ${total_amount:.2f}\")\n"
      ],
      "metadata": {
        "id": "anizX5Rthvbo",
        "colab": {
          "base_uri": "https://localhost:8080/"
        },
        "outputId": "6ce7f8d2-6b17-4d79-a717-0697b26f43bc"
      },
      "execution_count": null,
      "outputs": [
        {
          "output_type": "stream",
          "name": "stdout",
          "text": [
            "Enter the purchase amount: 2000\n",
            "Purchase amount: $2000.00\n",
            "Discount percentage: 10%\n",
            "Discount amount: $200.00\n",
            "Total amount after discount: $1800.00\n"
          ]
        }
      ]
    },
    {
      "cell_type": "code",
      "source": [
        "#9\n",
        "number = float(input(\"Enter a number: \"))\n",
        "min_range = 10\n",
        "max_range = 50\n",
        "\n",
        "if number >= min_range and number <= max_range:\n",
        "    print(f\"{number} is within the specified range.\")\n",
        "else:\n",
        "    print(f\"{number} is not within the specified range.\")\n"
      ],
      "metadata": {
        "id": "r8aFoAMohvYb",
        "colab": {
          "base_uri": "https://localhost:8080/"
        },
        "outputId": "b508ef5a-84b5-4cb0-b71c-795c3d702ed7"
      },
      "execution_count": null,
      "outputs": [
        {
          "output_type": "stream",
          "name": "stdout",
          "text": [
            "Enter a number: 5\n",
            "5.0 is not within the specified range.\n"
          ]
        }
      ]
    },
    {
      "cell_type": "code",
      "source": [
        "#10\n",
        "score = float(input(\"Enter the student's score: \"))\n",
        "\n",
        "if score >= 90:\n",
        "    grade = 'A'\n",
        "elif score >= 80:\n",
        "    grade = 'B'\n",
        "elif score >= 70:\n",
        "    grade = 'C'\n",
        "elif score >= 60:\n",
        "    grade = 'D'\n",
        "else:\n",
        "    grade = 'F'\n",
        "\n",
        "print(f\"The student's grade is {grade}\")\n"
      ],
      "metadata": {
        "id": "HzdWe8uuhvC6",
        "colab": {
          "base_uri": "https://localhost:8080/"
        },
        "outputId": "3446a0f2-63d7-4cb2-ab12-543edcbba867"
      },
      "execution_count": null,
      "outputs": [
        {
          "output_type": "stream",
          "name": "stdout",
          "text": [
            "Enter the student's score: 4\n",
            "The student's grade is F\n"
          ]
        }
      ]
    },
    {
      "cell_type": "code",
      "source": [
        "#11\n",
        "string = input(\"Enter a string: \")\n",
        "\n",
        "if len(string) == 0:\n",
        "    print(\"The string is empty.\")\n",
        "else:\n",
        "    print(\"The string is not empty.\")\n"
      ],
      "metadata": {
        "colab": {
          "base_uri": "https://localhost:8080/"
        },
        "id": "aaLs045YoSQr",
        "outputId": "b1f3a6fa-262f-4211-b642-bd217851d169"
      },
      "execution_count": null,
      "outputs": [
        {
          "output_type": "stream",
          "name": "stdout",
          "text": [
            "Enter a string: shashank\n",
            "The string is not empty.\n"
          ]
        }
      ]
    },
    {
      "cell_type": "code",
      "source": [
        "#12\n",
        "side1 = float(input(\"Enter the length of the first side: \"))\n",
        "side2 = float(input(\"Enter the length of the second side: \"))\n",
        "side3 = float(input(\"Enter the length of the third side: \"))\n",
        "\n",
        "if side1 == side2 == side3:\n",
        "    triangle_type = \"equilateral\"\n",
        "elif side1 == side2 or side2 == side3 or side1 == side3:\n",
        "    triangle_type = \"isosceles\"\n",
        "else:\n",
        "    triangle_type = \"scalene\"\n",
        "\n",
        "print(f\"The triangle is {triangle_type}.\")\n"
      ],
      "metadata": {
        "colab": {
          "base_uri": "https://localhost:8080/"
        },
        "id": "G3dzCu4NoSN9",
        "outputId": "0e205aca-0ab9-40f5-b98e-504f62fec852"
      },
      "execution_count": null,
      "outputs": [
        {
          "output_type": "stream",
          "name": "stdout",
          "text": [
            "Enter the length of the first side: 7\n",
            "Enter the length of the second side: 8\n",
            "Enter the length of the third side: 9\n",
            "The triangle is scalene.\n"
          ]
        }
      ]
    },
    {
      "cell_type": "code",
      "source": [
        "#13\n",
        "day_number = int(input(\"Enter a number (1-7) to represent the day of the week: \"))\n",
        "\n",
        "if day_number == 1:\n",
        "    day = \"Monday\"\n",
        "elif day_number == 2:\n",
        "    day = \"Tuesday\"\n",
        "elif day_number == 3:\n",
        "    day = \"Wednesday\"\n",
        "elif day_number == 4:\n",
        "    day = \"Thursday\"\n",
        "elif day_number == 5:\n",
        "    day = \"Friday\"\n",
        "elif day_number == 6:\n",
        "    day = \"Saturday\"\n",
        "elif day_number == 7:\n",
        "    day = \"Sunday\"\n",
        "else:\n",
        "    day = \"Invalid input\"\n",
        "\n",
        "print(f\"The day corresponding to {day_number} is {day}.\")\n"
      ],
      "metadata": {
        "colab": {
          "base_uri": "https://localhost:8080/"
        },
        "id": "TAbF3-8xoSI7",
        "outputId": "e7794762-9d21-478b-e837-7f1891c11d1a"
      },
      "execution_count": null,
      "outputs": [
        {
          "output_type": "stream",
          "name": "stdout",
          "text": [
            "Enter a number (1-7) to represent the day of the week: 5\n",
            "The day corresponding to 5 is Friday.\n"
          ]
        }
      ]
    },
    {
      "cell_type": "code",
      "source": [
        "#14\n",
        "def is_leap_year(year):\n",
        "    if (year % 4 == 0 and year % 100 != 0) or (year % 400 == 0):\n",
        "        return True\n",
        "    else:\n",
        "        return False\n",
        "\n",
        "year = int(input(\"Enter a year: \"))\n",
        "\n",
        "if is_leap_year(year):\n",
        "    print(f\"{year} is a leap year.\")\n",
        "else:\n",
        "    print(f\"{year} is not a leap year.\")\n"
      ],
      "metadata": {
        "colab": {
          "base_uri": "https://localhost:8080/"
        },
        "id": "54_BLOwooSGD",
        "outputId": "83c74699-591b-4dca-9521-9948ed16e9d5"
      },
      "execution_count": null,
      "outputs": [
        {
          "output_type": "stream",
          "name": "stdout",
          "text": [
            "Enter a year: 2000\n",
            "2000 is a leap year.\n"
          ]
        }
      ]
    },
    {
      "cell_type": "code",
      "source": [
        "#15\n",
        "x = 5\n",
        "assert x < 3, \"x should be less than 3\"\n"
      ],
      "metadata": {
        "id": "EwKtMD2GosZ3"
      },
      "execution_count": null,
      "outputs": []
    },
    {
      "cell_type": "code",
      "source": [
        "#16\n",
        "age = int(input(\"Enter your age: \"))\n",
        "\n",
        "if age >= 60:\n",
        "    print(\"You are eligible for a senior citizen discount.\")\n",
        "else:\n",
        "    print(\"You are not eligible for a senior citizen discount.\")\n"
      ],
      "metadata": {
        "id": "Bm2ABYsSosW5",
        "colab": {
          "base_uri": "https://localhost:8080/"
        },
        "outputId": "04f00017-6da3-43df-f62e-97fe38b467af"
      },
      "execution_count": null,
      "outputs": [
        {
          "output_type": "stream",
          "name": "stdout",
          "text": [
            "Enter your age: 15\n",
            "You are not eligible for a senior citizen discount.\n"
          ]
        }
      ]
    },
    {
      "cell_type": "code",
      "source": [
        "#17\n",
        "char = input(\"Enter a character: \")\n",
        "\n",
        "if char.isupper():\n",
        "    print(char, \"is uppercase.\")\n",
        "elif char.islower():\n",
        "    print(char, \"is lowercase.\")\n",
        "else:\n",
        "    print(char, \"is neither uppercase nor lowercase.\")\n"
      ],
      "metadata": {
        "id": "J10twDzLosHR",
        "colab": {
          "base_uri": "https://localhost:8080/"
        },
        "outputId": "28766bb7-702d-49ea-8ee0-de96bb496769"
      },
      "execution_count": null,
      "outputs": [
        {
          "output_type": "stream",
          "name": "stdout",
          "text": [
            "Enter a character: d\n",
            "d is lowercase.\n"
          ]
        }
      ]
    },
    {
      "cell_type": "code",
      "source": [
        "#18\n",
        "import math\n",
        "\n",
        "a = float(input(\"Enter the coefficient a: \"))\n",
        "b = float(input(\"Enter the coefficient b: \"))\n",
        "c = float(input(\"Enter the coefficient c: \"))\n",
        "\n",
        "discriminant = b**2 - 4*a*c\n",
        "\n",
        "if discriminant > 0:\n",
        "    root1 = (-b + math.sqrt(discriminant)) / (2*a)\n",
        "    root2 = (-b - math.sqrt(discriminant)) / (2*a)\n",
        "    print(\"Two real roots:\", root1, \"and\", root2)\n",
        "elif discriminant == 0:\n",
        "    root = -b / (2*a)\n",
        "    print(\"One real root:\", root)\n",
        "else:\n",
        "    print(\"No real roots\")\n"
      ],
      "metadata": {
        "id": "gTnURP-JosBJ",
        "colab": {
          "base_uri": "https://localhost:8080/"
        },
        "outputId": "c0509484-b69a-45d9-eff4-8d1a040342bd"
      },
      "execution_count": null,
      "outputs": [
        {
          "output_type": "stream",
          "name": "stdout",
          "text": [
            "Enter the coefficient a: 2\n",
            "Enter the coefficient b: 3\n",
            "Enter the coefficient c: 2\n",
            "No real roots\n"
          ]
        }
      ]
    },
    {
      "cell_type": "code",
      "source": [
        "#19\n",
        "year = int(input(\"Enter a year: \"))\n",
        "\n",
        "if year % 100 == 0:\n",
        "    print(year, \"is a century year.\")\n",
        "else:\n",
        "    print(year, \"is not a century year.\")\n"
      ],
      "metadata": {
        "id": "E98UhX80or-a",
        "colab": {
          "base_uri": "https://localhost:8080/"
        },
        "outputId": "3e124ee3-6ad8-49d9-d7fd-670a4d278deb"
      },
      "execution_count": null,
      "outputs": [
        {
          "output_type": "stream",
          "name": "stdout",
          "text": [
            "Enter a year: 2000\n",
            "2000 is a century year.\n"
          ]
        }
      ]
    },
    {
      "cell_type": "code",
      "source": [
        "#20\n",
        "import math\n",
        "\n",
        "num = int(input(\"Enter a number: \"))\n",
        "sqrt = math.sqrt(num)\n",
        "\n",
        "if sqrt.is_integer():\n",
        "    print(num, \"is a perfect square.\")\n",
        "else:\n",
        "    print(num, \"is not a perfect square.\")\n"
      ],
      "metadata": {
        "id": "wszm1fVNoSDL",
        "colab": {
          "base_uri": "https://localhost:8080/"
        },
        "outputId": "b8ae3c7a-6bd6-4fc8-bb13-5d6b41c897f0"
      },
      "execution_count": null,
      "outputs": [
        {
          "output_type": "stream",
          "name": "stdout",
          "text": [
            "Enter a number: 4\n",
            "4 is a perfect square.\n"
          ]
        }
      ]
    },
    {
      "cell_type": "code",
      "source": [
        "#21\n",
        "for i in range(1, 6):\n",
        "    if i == 3:\n",
        "        continue  # Skip iteration for i = 3\n",
        "    print(i)\n"
      ],
      "metadata": {
        "colab": {
          "base_uri": "https://localhost:8080/"
        },
        "id": "l-D5cZo3E7n4",
        "outputId": "7cb3b2bd-f179-44fd-d05b-68ec40dd24f3"
      },
      "execution_count": null,
      "outputs": [
        {
          "output_type": "stream",
          "name": "stdout",
          "text": [
            "1\n",
            "2\n",
            "4\n",
            "5\n"
          ]
        }
      ]
    },
    {
      "cell_type": "code",
      "source": [
        "#22\n",
        "weight = float(input(\"Enter your weight in kilograms: \"))\n",
        "height = float(input(\"Enter your height in meters: \"))\n",
        "\n",
        "bmi = weight / (height ** 2)\n",
        "\n",
        "if bmi < 18.5:\n",
        "    category = \"Underweight\"\n",
        "elif 18.5 <= bmi < 24.9:\n",
        "    category = \"Normal Weight\"\n",
        "elif 24.9 <= bmi < 29.9:\n",
        "    category = \"Overweight\"\n",
        "else:\n",
        "    category = \"Obese\"\n",
        "\n",
        "print(f\"Your BMI is {bmi:.2f}, which is categorized as {category}.\")\n"
      ],
      "metadata": {
        "colab": {
          "base_uri": "https://localhost:8080/"
        },
        "id": "qd0sKkCLE7lX",
        "outputId": "4b32cc56-a2cf-40cd-9d7c-9576eb027419"
      },
      "execution_count": null,
      "outputs": [
        {
          "output_type": "stream",
          "name": "stdout",
          "text": [
            "Enter your weight in kilograms: 78\n",
            "Enter your height in meters: 0.176\n",
            "Your BMI is 2518.08, which is categorized as Obese.\n"
          ]
        }
      ]
    },
    {
      "cell_type": "code",
      "source": [
        "#23\n",
        "numbers = [1, 2, 3, 4, 5, 6, 7, 8, 9]\n",
        "\n",
        "def is_even(num):\n",
        "    return num % 2 == 0\n",
        "\n",
        "filtered_numbers = list(filter(is_even, numbers))\n",
        "print(filtered_numbers)\n"
      ],
      "metadata": {
        "colab": {
          "base_uri": "https://localhost:8080/"
        },
        "id": "Kk9hM0DoE7it",
        "outputId": "9843c4d4-079c-43ca-f716-a3e79cd65c74"
      },
      "execution_count": null,
      "outputs": [
        {
          "output_type": "stream",
          "name": "stdout",
          "text": [
            "[2, 4, 6, 8]\n"
          ]
        }
      ]
    },
    {
      "cell_type": "code",
      "source": [
        "#24\n",
        "num = int(input(\"Enter a number: \"))\n",
        "\n",
        "if num <= 1:\n",
        "    is_prime = False\n",
        "else:\n",
        "    is_prime = True\n",
        "    for i in range(2, int(num ** 0.5) + 1):\n",
        "        if num % i == 0:\n",
        "            is_prime = False\n",
        "            break\n",
        "\n",
        "if is_prime:\n",
        "    print(f\"{num} is a prime number.\")\n",
        "else:\n",
        "    print(f\"{num} is not a prime number.\")\n"
      ],
      "metadata": {
        "colab": {
          "base_uri": "https://localhost:8080/"
        },
        "id": "4bq0B9HME7f_",
        "outputId": "fa402449-7839-44be-c9b8-72b39f903cab"
      },
      "execution_count": null,
      "outputs": [
        {
          "output_type": "stream",
          "name": "stdout",
          "text": [
            "Enter a number: 5\n",
            "5 is a prime number.\n"
          ]
        }
      ]
    },
    {
      "cell_type": "markdown",
      "source": [
        "Map :-\n",
        "1. Explain the purpose of the `map()` function in Python and provide an example of how it can be\n",
        "used to apply a function to each element of an iterable.\n",
        "2. Write a Python program that uses the `map()` function to square each element of a list of\n",
        "numbers.\n",
        "3. How does the `map()` function differ from a list comprehension in Python, and when would you\n",
        "choose one over the other?\n",
        "4. Create a Python program that uses the `map()` function to convert a list of names to uppercase.\n",
        "5. Write a Python program that uses the `map()` function to calculate the length of each word in a\n",
        "list of strings.\n",
        "6. How can you use the `map()` function to apply a custom function to elements of multiple lists\n",
        "simultaneously in Python?\n",
        "7. Create a Python program that uses `map()` to convert a list of temperatures from Celsius to\n",
        "Fahrenheit.\n",
        "8. Write a Python program that uses the `map()` function to round each element of a list of\n",
        "floating-point numbers to the nearest integer."
      ],
      "metadata": {
        "id": "ASRBSLQuWFHk"
      }
    },
    {
      "cell_type": "markdown",
      "source": [
        "Question 1\n",
        "Map in Python is a function that works as an iterator to return a result after applying a function to every item of an iterable (tuple, lists, etc.). It is used when you want to apply a single transformation function to all the iterable elements. The iterable and function are passed as arguments to the map in Python."
      ],
      "metadata": {
        "id": "2GxtQigxW5FV"
      }
    },
    {
      "cell_type": "code",
      "source": [
        "#2\n",
        "l1 = [2,4,6,8]\n",
        "sqr = list(map(lambda a : a**2, l1))\n",
        "print(sqr)"
      ],
      "metadata": {
        "colab": {
          "base_uri": "https://localhost:8080/"
        },
        "id": "R03CzBM0W1a3",
        "outputId": "266b067a-52da-4b82-c4f8-04ef7fa6a6c6"
      },
      "execution_count": null,
      "outputs": [
        {
          "output_type": "stream",
          "name": "stdout",
          "text": [
            "[4, 16, 36, 64]\n"
          ]
        }
      ]
    },
    {
      "cell_type": "markdown",
      "source": [
        "Question 3\n",
        "\n",
        "List comprehension returns the list whereas map() returns an object of iterables"
      ],
      "metadata": {
        "id": "r3Y5c6oYXanZ"
      }
    },
    {
      "cell_type": "code",
      "source": [
        "#4\n",
        "l = [\"shashank\", \"garima\",\"aditya\",\"manav\"]\n",
        "l2 = list(map(lambda i : i.upper(), l))\n",
        "print(l2)"
      ],
      "metadata": {
        "colab": {
          "base_uri": "https://localhost:8080/"
        },
        "id": "2gk2KrXXXOcy",
        "outputId": "968edc8c-f06f-41a4-d1d1-a20210a32cc7"
      },
      "execution_count": null,
      "outputs": [
        {
          "output_type": "stream",
          "name": "stdout",
          "text": [
            "['SHASHANK', 'GARIMA', 'ADITYA', 'MANAV']\n"
          ]
        }
      ]
    },
    {
      "cell_type": "code",
      "source": [
        "#5\n",
        "l = [\"shashank\", \"garima\",\"aditya\",\"manav\"]\n",
        "l2 = list(map(lambda i : len(i), l))\n",
        "print(l2)"
      ],
      "metadata": {
        "colab": {
          "base_uri": "https://localhost:8080/"
        },
        "id": "UCKPt-tjYNfb",
        "outputId": "e4dc1268-c8b6-4439-d1e2-fd06f106c289"
      },
      "execution_count": null,
      "outputs": [
        {
          "output_type": "stream",
          "name": "stdout",
          "text": [
            "[8, 6, 6, 5]\n"
          ]
        }
      ]
    },
    {
      "cell_type": "code",
      "source": [
        "#6\n",
        "def mul_elements(a, b, c):\n",
        "  return a+b+c\n",
        "l1 = [1,2,3]\n",
        "l2 = [4,5,6]\n",
        "l3 = [7,8,9]\n",
        "result = list(map(mul_elements, l1,l2,l3))\n",
        "print(result)"
      ],
      "metadata": {
        "colab": {
          "base_uri": "https://localhost:8080/"
        },
        "id": "pndJ9bwxYau_",
        "outputId": "3ab71c15-8784-4c75-c7da-f618bed36ea4"
      },
      "execution_count": null,
      "outputs": [
        {
          "output_type": "stream",
          "name": "stdout",
          "text": [
            "[12, 15, 18]\n"
          ]
        }
      ]
    },
    {
      "cell_type": "code",
      "source": [
        "#7\n",
        "temp_celsius = [32,72,48]\n",
        "temp_fahren = list(map(lambda a : a*1.8+32, temp_celsius))\n",
        "print(temp_fahren)"
      ],
      "metadata": {
        "colab": {
          "base_uri": "https://localhost:8080/"
        },
        "id": "u9mktgyMeQuN",
        "outputId": "d4aaed39-d17c-4d9c-b67e-86239af0a38a"
      },
      "execution_count": null,
      "outputs": [
        {
          "output_type": "stream",
          "name": "stdout",
          "text": [
            "[89.6, 161.6, 118.4]\n"
          ]
        }
      ]
    },
    {
      "cell_type": "code",
      "source": [
        "#8\n",
        "float_num = [1.2,4.3,5.5]\n",
        "nearest_int = list(map(lambda a: int(a), float_num))\n",
        "print(nearest_int)"
      ],
      "metadata": {
        "colab": {
          "base_uri": "https://localhost:8080/"
        },
        "id": "17lhRDZdfBEk",
        "outputId": "ba24fc21-e4b1-4704-bf48-315395dd9ab5"
      },
      "execution_count": null,
      "outputs": [
        {
          "output_type": "stream",
          "name": "stdout",
          "text": [
            "[1, 4, 5]\n"
          ]
        }
      ]
    },
    {
      "cell_type": "markdown",
      "source": [
        "Reduce :-\n",
        "1. What is the `reduce()` function in Python, and what module should you import to use it? Provide\n",
        "an example of its basic usage.\n",
        "2. Write a Python program that uses the `reduce()` function to find the product of all elements in a\n",
        "list.\n",
        "3. Create a Python program that uses `reduce()` to find the maximum element in a list of numbers.\n",
        "4. How can you use the `reduce()` function to concatenate a list of strings into a single string?\n",
        "5. Write a Python program that calculates the factorial of a number using the `reduce()` function.\n",
        "6. Create a Python program that uses `reduce()` to find the GCD (Greatest Common Divisor) of a list\n",
        "of numbers.\n",
        "7. Write a Python program that uses the `reduce()` function to find the sum of the digits of a given\n",
        "number."
      ],
      "metadata": {
        "id": "z-EuPgfPK6jh"
      }
    },
    {
      "cell_type": "markdown",
      "source": [
        "Question 1:  \n",
        "Reduce() function is a mathematical technique called folding or reduction."
      ],
      "metadata": {
        "id": "iRnka07cK-Hl"
      }
    },
    {
      "cell_type": "code",
      "source": [
        "#2\n",
        "from functools import reduce\n",
        "lst = [1,2,3,4,5]\n",
        "x = reduce(lambda a,b : a*b, lst)\n",
        "print(x)"
      ],
      "metadata": {
        "id": "h_xuBWk9iPAW",
        "colab": {
          "base_uri": "https://localhost:8080/"
        },
        "outputId": "0549343c-f255-4ab0-fc23-6b494b7b0327"
      },
      "execution_count": null,
      "outputs": [
        {
          "output_type": "stream",
          "name": "stdout",
          "text": [
            "120\n"
          ]
        }
      ]
    },
    {
      "cell_type": "code",
      "source": [
        "#3\n",
        "lst1 = [1,23,4,5]\n",
        "x = reduce(lambda a,b : max(a,b), lst1)\n",
        "print(x)"
      ],
      "metadata": {
        "colab": {
          "base_uri": "https://localhost:8080/"
        },
        "id": "07mHAJ4ILzVU",
        "outputId": "b7affe9c-5ce5-4e06-d431-dc145a6e44e5"
      },
      "execution_count": null,
      "outputs": [
        {
          "output_type": "stream",
          "name": "stdout",
          "text": [
            "23\n"
          ]
        }
      ]
    },
    {
      "cell_type": "code",
      "source": [
        "#4\n",
        "lst_str = [\"my\", \"name\", \"is\",\"shashank\",\"rawat\"]\n",
        "single_str = reduce(lambda a,b : a+\" \" + b, lst_str)\n",
        "print(single_str)"
      ],
      "metadata": {
        "colab": {
          "base_uri": "https://localhost:8080/"
        },
        "id": "OGwvKOIYMmwe",
        "outputId": "42cbe251-244e-4963-df07-633ce038852e"
      },
      "execution_count": null,
      "outputs": [
        {
          "output_type": "stream",
          "name": "stdout",
          "text": [
            "my name is shashank rawat\n"
          ]
        }
      ]
    },
    {
      "cell_type": "code",
      "source": [
        "#5\n",
        "num = int(input(\"Enter the number to find factorial: \"))\n",
        "\n",
        "fact = reduce(lambda x, y: x * y, range(1, num+1))\n",
        "\n",
        "print(fact)\n"
      ],
      "metadata": {
        "colab": {
          "base_uri": "https://localhost:8080/"
        },
        "id": "rCoJkITWPF7v",
        "outputId": "4c1fc066-c2ad-4d89-aa1e-1d24ced1cea7"
      },
      "execution_count": null,
      "outputs": [
        {
          "output_type": "stream",
          "name": "stdout",
          "text": [
            "Enter the number to find factorial: 5\n",
            "120\n"
          ]
        }
      ]
    },
    {
      "cell_type": "code",
      "source": [
        "#6\n",
        "import math\n",
        "gcd = lambda a, b: math.gcd(a, b)\n",
        "lst = [64, 16]\n",
        "result = reduce(gcd, lst)\n",
        "print(result)"
      ],
      "metadata": {
        "colab": {
          "base_uri": "https://localhost:8080/"
        },
        "id": "1QVTaXn_Qub4",
        "outputId": "db0f4454-7ff1-48f3-ab72-3f5f761d3027"
      },
      "execution_count": null,
      "outputs": [
        {
          "output_type": "stream",
          "name": "stdout",
          "text": [
            "16\n"
          ]
        }
      ]
    },
    {
      "cell_type": "code",
      "source": [
        "#7\n",
        "def add_digits(digit1, digit2):\n",
        "    return int(digit1) + int(digit2)\n",
        "\n",
        "\n",
        "number_str = input(\"Enter a number: \")\n",
        "\n",
        "sum_of_digits = reduce(add_digits, number_str)\n",
        "\n",
        "print(f\"The sum of digits in {number_str} is {sum_of_digits}\")\n"
      ],
      "metadata": {
        "colab": {
          "base_uri": "https://localhost:8080/"
        },
        "id": "Pk8vWokuTrRe",
        "outputId": "d9622249-8412-46a5-f0d4-477676207a97"
      },
      "execution_count": null,
      "outputs": [
        {
          "output_type": "stream",
          "name": "stdout",
          "text": [
            "Enter a number: 1234\n",
            "The sum of digits in 1234 is 10\n"
          ]
        }
      ]
    },
    {
      "cell_type": "markdown",
      "source": [
        "Recursion:-\n",
        "1. Explain the concept of recursion in Python. How does it differ from iteration?\n",
        "2. Write a Python program to calculate the factorial of a number using recursion.\n",
        "3. Create a recursive Python function to find the nth Fibonacci number.\n",
        "4. Write a recursive Python function to calculate the sum of all elements in a list.\n",
        "5. How can you prevent a recursive function from running indefinitely, causing a stack overflow\n",
        "error?\n",
        "6. Create a recursive Python function to find the greatest common divisor (GCD) of two numbers\n",
        "using the Euclidean algorithm.\n",
        "7. Write a recursive Python function to reverse a string.\n",
        "8. Create a recursive Python function to calculate the power of a number (x^n).\n",
        "9. Write a recursive Python function to find all permutations of a given string.\n",
        "10. Write a recursive Python function to check if a string is a palindrome.\n",
        "11. Create a recursive Python function to generate all possible combinations of a list of elements."
      ],
      "metadata": {
        "id": "o7D8QTjjV49p"
      }
    },
    {
      "cell_type": "markdown",
      "source": [
        "Question 1:\n",
        "\n",
        "Recursion is a programming concept. In which function call itself untill the condition which terminates the program arrived."
      ],
      "metadata": {
        "id": "iP1LrCstWWD3"
      }
    },
    {
      "cell_type": "code",
      "source": [
        "#2\n",
        "def fact(num):\n",
        "  if num<= 1:\n",
        "    return 1\n",
        "  return num*fact(num-1)\n",
        "print(fact(int(input(\"Enter the number to find the factorial: \"))))"
      ],
      "metadata": {
        "colab": {
          "base_uri": "https://localhost:8080/"
        },
        "id": "5Fr4WSDpVN60",
        "outputId": "57cadc9e-3cda-4ec9-ac60-4dd676bfb6d9"
      },
      "execution_count": null,
      "outputs": [
        {
          "output_type": "stream",
          "name": "stdout",
          "text": [
            "Enter the number to find the factorial: 4\n",
            "24\n"
          ]
        }
      ]
    },
    {
      "cell_type": "code",
      "source": [
        "#3\n",
        "def factorial(n):\n",
        "    if n == 0:\n",
        "        return 1\n",
        "    else:\n",
        "        return n * factorial(n - 1)\n",
        "\n",
        "\n",
        "num = int(input(\"Enter a non-negative integer: \"))\n",
        "\n",
        "if num < 0:\n",
        "    print(\"Factorial is not defined for negative numbers.\")\n",
        "else:\n",
        "    result = factorial(num)\n",
        "    print(f\"The factorial of {num} is {result}\")\n"
      ],
      "metadata": {
        "colab": {
          "base_uri": "https://localhost:8080/"
        },
        "id": "KPgSyasWXMKe",
        "outputId": "ee402554-3faf-42f9-f966-1887e9b613fe"
      },
      "execution_count": null,
      "outputs": [
        {
          "output_type": "stream",
          "name": "stdout",
          "text": [
            "Enter a non-negative integer: 5\n",
            "The factorial of 5 is 120\n"
          ]
        }
      ]
    },
    {
      "cell_type": "code",
      "source": [
        "#4\n",
        "def sum_lst(lst):\n",
        "  if len(lst) == 0:\n",
        "    return 0\n",
        "  else:\n",
        "    return lst[0] + sum_lst(lst[1:])\n",
        "print(sum_lst([1,2,3,4,5,6]))"
      ],
      "metadata": {
        "colab": {
          "base_uri": "https://localhost:8080/"
        },
        "id": "pGKy5RQmYeqw",
        "outputId": "ec949f5b-37b6-4d46-9930-332b9fbb5734"
      },
      "execution_count": null,
      "outputs": [
        {
          "output_type": "stream",
          "name": "stdout",
          "text": [
            "21\n"
          ]
        }
      ]
    },
    {
      "cell_type": "markdown",
      "source": [
        "Question 5:\n",
        "We can stop recursive function from stack overflow by giving a base condition to it."
      ],
      "metadata": {
        "id": "9R98yvSia8nF"
      }
    },
    {
      "cell_type": "code",
      "source": [
        "#6\n",
        "import math\n",
        "def greatest_common(num1, num2):\n",
        "  if num1==num2:\n",
        "    return a\n",
        "  else:\n",
        "    return math.gcd(num1, num2)\n",
        "\n",
        "print(greatest_common(10,15))"
      ],
      "metadata": {
        "id": "6snw3rPNcZyE",
        "colab": {
          "base_uri": "https://localhost:8080/"
        },
        "outputId": "cf9bfdad-38e0-4549-ab95-e9fefbe5e3b2"
      },
      "execution_count": null,
      "outputs": [
        {
          "output_type": "stream",
          "name": "stdout",
          "text": [
            "5\n"
          ]
        }
      ]
    },
    {
      "cell_type": "code",
      "source": [
        "#7\n",
        "def rev_str(s):\n",
        "  if s == \"\":\n",
        "    return \"\"\n",
        "  else:\n",
        "    return rev_str(s[1:]) + s[0]\n",
        "rev_str(\"shashank\")"
      ],
      "metadata": {
        "colab": {
          "base_uri": "https://localhost:8080/",
          "height": 35
        },
        "id": "0g86ydVqdXs0",
        "outputId": "f524529a-3f86-4bae-ed16-67aceb2ed62e"
      },
      "execution_count": null,
      "outputs": [
        {
          "output_type": "execute_result",
          "data": {
            "text/plain": [
              "'knahsahs'"
            ],
            "application/vnd.google.colaboratory.intrinsic+json": {
              "type": "string"
            }
          },
          "metadata": {},
          "execution_count": 18
        }
      ]
    },
    {
      "cell_type": "code",
      "source": [
        "#8\n",
        "def power(x, n):\n",
        "\n",
        "    if n == 0:\n",
        "        return 1\n",
        "\n",
        "\n",
        "    return x * power(x, n - 1)\n",
        "print(power(5,2))"
      ],
      "metadata": {
        "colab": {
          "base_uri": "https://localhost:8080/"
        },
        "id": "1yBmPOM4fkZR",
        "outputId": "f72eb06b-809c-4d6d-c5c7-d4eefa825141"
      },
      "execution_count": null,
      "outputs": [
        {
          "output_type": "stream",
          "name": "stdout",
          "text": [
            "25\n"
          ]
        }
      ]
    },
    {
      "cell_type": "code",
      "source": [
        "#9\n"
      ],
      "metadata": {
        "id": "ObLmcDYSngVG"
      },
      "execution_count": null,
      "outputs": []
    },
    {
      "cell_type": "code",
      "source": [
        "#10\n",
        "def is_palindrome(s):\n",
        "    if len(s) < 1:\n",
        "        return True\n",
        "    else:\n",
        "        if s[0] == s[-1]:\n",
        "            return is_palindrome(s[1:-1])\n",
        "        else:\n",
        "            return False\n",
        "a=str(input(\"Enter string:\"))\n",
        "if(is_palindrome(a)==True):\n",
        "    print(\"String is a palindrome!\")\n",
        "else:\n",
        "    print(\"String isn't a palindrome!\")\n",
        "\n"
      ],
      "metadata": {
        "colab": {
          "base_uri": "https://localhost:8080/"
        },
        "id": "mZ6MG9SQGRg9",
        "outputId": "0aa7357c-a482-425c-dbe0-0a247218fa5e"
      },
      "execution_count": null,
      "outputs": [
        {
          "output_type": "stream",
          "name": "stdout",
          "text": [
            "Enter string:shashank\n",
            "String isn't a palindrome!\n"
          ]
        }
      ]
    },
    {
      "cell_type": "code",
      "source": [
        "#11\n"
      ],
      "metadata": {
        "id": "8hRabNpGoojy"
      },
      "execution_count": null,
      "outputs": []
    },
    {
      "cell_type": "markdown",
      "source": [
        "Basics of Functions:\n",
        "1. What is a function in Python, and why is it used?\n",
        "2. How do you define a function in Python? Provide an example.\n",
        "3. Explain the difference between a function definition and a function call.\n",
        "4. Write a Python program that defines a function to calculate the sum of two numbers and then\n",
        "calls the function.\n",
        "5. What is a function signature, and what information does it typically include?\n",
        "6. Create a Python function that takes two arguments and returns their product."
      ],
      "metadata": {
        "id": "SiHIHbTTMUH1"
      }
    },
    {
      "cell_type": "markdown",
      "source": [
        "Question 1:\n",
        "A function is a block of code which only runs when it is called.\n",
        "You can pass data, known as parameters, into a function.\n",
        "A function can return data as a result.\n",
        "\n"
      ],
      "metadata": {
        "id": "q4_m40ncMpeF"
      }
    },
    {
      "cell_type": "code",
      "source": [
        "#2\n",
        "def func():\n",
        "  pass"
      ],
      "metadata": {
        "id": "0n9pntn8G0pE"
      },
      "execution_count": null,
      "outputs": []
    },
    {
      "cell_type": "markdown",
      "source": [
        "Question 3:\n",
        "\n",
        "A function is a block of code that performs a specific task, while a function call is an expression that invokes a function and executes the code in the function."
      ],
      "metadata": {
        "id": "8Cf_fcmhNUk8"
      }
    },
    {
      "cell_type": "code",
      "source": [
        "#4\n",
        "def sum_num(a, b):\n",
        "  return a+b\n",
        "print(sum_num(4,5))"
      ],
      "metadata": {
        "colab": {
          "base_uri": "https://localhost:8080/"
        },
        "id": "lKvDfrdvNEnR",
        "outputId": "61aa6d10-0373-4811-99e3-6d09b037394b"
      },
      "execution_count": null,
      "outputs": [
        {
          "output_type": "stream",
          "name": "stdout",
          "text": [
            "9\n"
          ]
        }
      ]
    },
    {
      "cell_type": "markdown",
      "source": [
        "Question 5:\n",
        "\n",
        "A function signature, also known as a function prototype or function header, is a critical part of a function's declaration in a programming language. It provides essential information about the function's characteristics and usage without including the function's implementation. A function signature typically includes the following information:\n",
        "\n",
        "Function Name: This is the name by which the function is called in the program. It should be a meaningful and descriptive name that reflects the function's purpose.\n",
        "\n",
        "Return Type: The data type of the value that the function will return after its execution. It specifies what type of data the function will produce as output. It can be a specific data type (e.g., int, float, str) or 'void' if the function does not return any value.\n",
        "\n",
        "Parameters/Arguments: A list of input variables (parameters) that the function expects when it is called. Each parameter includes its data type and a variable name. Parameters are enclosed in parentheses and separated by commas.\n",
        "\n",
        "Access Modifiers (optional): In some programming languages, you can specify access modifiers like 'public,' 'private,' or 'protected' to control the visibility and accessibility of the function."
      ],
      "metadata": {
        "id": "k04MwapGOCE3"
      }
    },
    {
      "cell_type": "code",
      "source": [
        "#6\n",
        "def mul_num(a, b):\n",
        "  return a*b\n",
        "print(mul_num(4,5))"
      ],
      "metadata": {
        "colab": {
          "base_uri": "https://localhost:8080/"
        },
        "id": "nB3F20w1NjLo",
        "outputId": "063ce019-627b-455b-a894-9b521a4d0c50"
      },
      "execution_count": null,
      "outputs": [
        {
          "output_type": "stream",
          "name": "stdout",
          "text": [
            "20\n"
          ]
        }
      ]
    },
    {
      "cell_type": "markdown",
      "source": [
        "**Lambda Functions and Higher-Order Functions:**\n",
        "1. What are lambda functions in Python, and when are they typically used?\n",
        "\n",
        "Answer 1: Lambda functions, also known as anonymous functions, are small, inline functions in Python defined using the lambda keyword. They are typically used for short, simple operations where a full function definition is not necessary. Lambda functions can take any number of arguments but only have one expression.\n",
        "Lambda functions are useful when you need a quick function for a short period and don't want to formally define it using the def keyword. They are often used with higher-order functions like map(), filter(), and sorted(), where a simple function is required.\n",
        "\n",
        "\n",
        "3. Explain the concept of higher-order functions in Python, and provide an example.\n",
        "\n",
        "Answer 3: Higher-order functions are functions that can take other functions as arguments or return functions as results. Python supports higher-order functions, and they are a fundamental concept in functional programming.\n",
        "\n",
        "One common example is the map() function, which applies a given function to all items in an input list and returns an iterator of the results.\n",
        "\n"
      ],
      "metadata": {
        "id": "UCX7inhcOiC5"
      }
    },
    {
      "cell_type": "code",
      "source": [
        "#2. Write a Python program that uses lambda functions to sort a list of tuples based on the second element.\n",
        "# List of tuples\n",
        "data = [(1, 5), (3, 2), (2, 8), (4, 1)]\n",
        "\n",
        "# Sort the list based on the second element of each tuple\n",
        "sorted_data = sorted(data, key=lambda x: x[1])\n",
        "\n",
        "# Print the sorted list\n",
        "print(sorted_data)\n",
        "\n"
      ],
      "metadata": {
        "colab": {
          "base_uri": "https://localhost:8080/"
        },
        "id": "kIlK5c56N-l4",
        "outputId": "e0e43cdf-526a-44a6-e911-e6d720e54096"
      },
      "execution_count": null,
      "outputs": [
        {
          "output_type": "stream",
          "name": "stdout",
          "text": [
            "[(4, 1), (3, 2), (1, 5), (2, 8)]\n"
          ]
        }
      ]
    },
    {
      "cell_type": "code",
      "source": [
        "# 4. Create a Python function that takes a list of numbers and a function as arguments, applying the function to each element in the list.\n",
        "def apply_function_to_list(numbers, func):\n",
        "    return [func(num) for num in numbers]\n",
        "\n",
        "# Example usage:\n",
        "numbers = [1, 2, 3, 4, 5]\n",
        "\n",
        "# Define a function to double a number\n",
        "def double(x):\n",
        "    return x * 2\n",
        "\n",
        "# Apply the 'double' function to each element in 'numbers'\n",
        "result = apply_function_to_list(numbers, double)\n",
        "\n",
        "print(result)  # Output: [2, 4, 6, 8, 10]\n"
      ],
      "metadata": {
        "colab": {
          "base_uri": "https://localhost:8080/"
        },
        "id": "n_H-JbOfPVUI",
        "outputId": "68be2c39-32aa-461a-bc5b-23528ab5c35d"
      },
      "execution_count": null,
      "outputs": [
        {
          "output_type": "stream",
          "name": "stdout",
          "text": [
            "[2, 4, 6, 8, 10]\n"
          ]
        }
      ]
    },
    {
      "cell_type": "markdown",
      "source": [
        "**Built-in Functions:**\n",
        "1. Describe the role of built-in functions like `len()`, `max()`, and `min()` in Python.\n",
        "Answer 1: len(): The len() function is used to calculate the length or the number of items in an iterable (e.g., strings, lists, tuples, dictionaries). It returns an integer representing the length of the object.\n",
        "\n",
        "max(): The max() function is used to find the maximum element among a collection of values. It can take multiple arguments or an iterable and returns the largest value.\n",
        "\n",
        "min(): The min() function is used to find the minimum element among a collection of values. Like max(), it can take multiple arguments or an iterable and returns the smallest value.\n",
        "\n",
        "3. How does the `filter()` function work in Python, and when would you use it?\n",
        "\n",
        "Answer 3: The filter() function is used to filter elements from an iterable (e.g., a list) based on a given condition or function. It takes two arguments: a function that returns either True or False (a predicate), and an iterable. It returns an iterator containing the elements that satisfy the condition.\n",
        "\n"
      ],
      "metadata": {
        "id": "D1wfG3uRQqF7"
      }
    },
    {
      "cell_type": "code",
      "source": [
        "#2. Write a Python program that uses the `map()` function to apply a function to each element of a list.\n",
        "def square(x):\n",
        "    return x ** 2\n",
        "\n",
        "numbers = [1, 2, 3, 4, 5]\n",
        "\n",
        "# Use map() to square each element in the numbers list\n",
        "squared_numbers = list(map(square, numbers))\n",
        "\n",
        "print(squared_numbers)  # Output: [1, 4, 9, 16, 25]\n"
      ],
      "metadata": {
        "colab": {
          "base_uri": "https://localhost:8080/"
        },
        "id": "tiZ0TQBsPqWZ",
        "outputId": "77baf67c-cc1d-4d27-96a8-f02a4f8b8a26"
      },
      "execution_count": null,
      "outputs": [
        {
          "output_type": "stream",
          "name": "stdout",
          "text": [
            "[1, 4, 9, 16, 25]\n"
          ]
        }
      ]
    },
    {
      "cell_type": "code",
      "source": [
        "#4. Create a Python program that uses the `reduce()` function to find the product of all elements in a list.\n",
        "from functools import reduce\n",
        "\n",
        "def multiply(x, y):\n",
        "    return x * y\n",
        "\n",
        "numbers = [1, 2, 3, 4, 5]\n",
        "\n",
        "# Use reduce() to find the product of all elements in the list\n",
        "product = reduce(multiply, numbers)\n",
        "\n",
        "print(product)  # Output: 120 (1 * 2 * 3 * 4 * 5)\n"
      ],
      "metadata": {
        "colab": {
          "base_uri": "https://localhost:8080/"
        },
        "id": "PM7l0EnfSNUs",
        "outputId": "035e5ae0-e8d0-4451-a3e3-80fed386894c"
      },
      "execution_count": null,
      "outputs": [
        {
          "output_type": "stream",
          "name": "stdout",
          "text": [
            "120\n"
          ]
        }
      ]
    },
    {
      "cell_type": "markdown",
      "source": [
        "**Function Documentation and Best Practices:**\n",
        "1. Explain the purpose of docstrings in Python functions and how to write them.\n",
        "Answer 1: Docstrings in Python are used to provide documentation and information about functions, modules, classes, and methods.\n",
        "\n",
        "\n",
        "2. Describe some best practices for naming functions and variables in Python, including naming conventions and guidelines.\n",
        "Answer 2:\n",
        "\n",
        "Choosing meaningful and consistent names for functions and variables is essential for writing clean, readable, and maintainable Python code. Here are some best practices and guidelines:\n",
        "\n",
        "Use Descriptive Names: Use names that clearly describe the purpose or content of the function or variable. This makes your code self-explanatory.\n",
        "\n",
        "Follow PEP 8: Adhere to the naming conventions outlined in Python Enhancement Proposal (PEP) 8, which is the official Python style guide. Some key points include:\n",
        "\n",
        "Use lowercase letters for variable and function names (e.g., my_variable, calculate_result()).\n",
        "Use underscores to separate words in variable and function names (snake_case).\n",
        "Use descriptive names, avoiding single-character names or overly abbreviated names.\n",
        "For constants, use uppercase letters with underscores (e.g., PI, MAX_LENGTH).\n",
        "Use Verb-Noun Pairing: For function names, use verb-noun pairs that describe what the function does (e.g., calculate_total(), print_report()).\n",
        "\n",
        "Be Consistent: Maintain consistency in naming across your codebase. If you use a particular naming style or pattern, stick to it throughout your project.\n",
        "\n",
        "Avoid Reserved Words: Do not use Python reserved words (e.g., for, if, while) as variable or function names, as it can lead to confusion and errors.\n",
        "\n",
        "Consider Function Names for Clarity: Choose function names that indicate whether the function performs an action (e.g., calculate_total()) or returns a value (e.g., get_average()).\n",
        "\n",
        "Use Singular for Variables: For variables that represent a single item, use a singular name (e.g., car instead of cars).\n",
        "\n",
        "Use Plural for Lists: For lists or collections of items, use a plural name (e.g., students for a list of student objects).\n",
        "\n",
        "Avoid Acronyms and Abbreviations: If you use acronyms or abbreviations, ensure they are well-known and widely understood in your domain. Otherwise, use full words for clarity.\n",
        "\n"
      ],
      "metadata": {
        "id": "uQkEaxehSi4p"
      }
    },
    {
      "cell_type": "code",
      "source": [],
      "metadata": {
        "id": "J_dOinUSSbZk"
      },
      "execution_count": null,
      "outputs": []
    }
  ]
}